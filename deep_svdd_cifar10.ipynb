{
 "cells": [
  {
   "cell_type": "markdown",
   "id": "16853cde",
   "metadata": {},
   "source": [
    "# Anomaly Detection on CIFAR-10 with Deep One-Class Classification"
   ]
  },
  {
   "cell_type": "markdown",
   "id": "d61d1487",
   "metadata": {},
   "source": [
    "This notebook implements a Deep SVDD-style anomaly detector using CIFAR-10 data. The 'airplane' class is treated as normal and all others as anomalies."
   ]
  },
  {
   "cell_type": "code",
   "execution_count": null,
   "id": "1559cca1",
   "metadata": {},
   "outputs": [],
   "source": [
    "import numpy as np\n",
    "import torch\n",
    "import torchvision\n",
    "import torchvision.transforms as transforms\n",
    "from sklearn.svm import OneClassSVM\n",
    "from sklearn.decomposition import PCA\n",
    "from sklearn.metrics import accuracy_score, precision_score, recall_score, roc_curve, auc\n",
    "import matplotlib.pyplot as plt"
   ]
  },
  {
   "cell_type": "code",
   "execution_count": null,
   "id": "d83d4019",
   "metadata": {},
   "outputs": [],
   "source": [
    "transform = transforms.Compose([transforms.ToTensor()])\n",
    "\n",
    "trainset = torchvision.datasets.CIFAR10(root='./data', train=True, download=True, transform=transform)\n",
    "testset = torchvision.datasets.CIFAR10(root='./data', train=False, download=True, transform=transform)\n",
    "\n",
    "def filter_dataset(dataset, normal_class=0):\n",
    "    normal_data = []\n",
    "    for img, label in dataset:\n",
    "        if label == normal_class:\n",
    "            normal_data.append(img.numpy().flatten())\n",
    "    return np.array(normal_data)\n",
    "\n",
    "def full_test_dataset(dataset, normal_class=0):\n",
    "    data = []\n",
    "    labels = []\n",
    "    for img, label in dataset:\n",
    "        data.append(img.numpy().flatten())\n",
    "        labels.append(0 if label == normal_class else 1)\n",
    "    return np.array(data), np.array(labels)\n",
    "\n",
    "X_train = filter_dataset(trainset)\n",
    "X_test, y_test = full_test_dataset(testset)"
   ]
  },
  {
   "cell_type": "code",
   "execution_count": null,
   "id": "4a17b650",
   "metadata": {},
   "outputs": [],
   "source": [
    "pca = PCA(n_components=50)\n",
    "X_train_pca = pca.fit_transform(X_train)\n",
    "X_test_pca = pca.transform(X_test)\n",
    "\n",
    "center = np.mean(X_train_pca, axis=0)\n",
    "distances = np.linalg.norm(X_test_pca - center, axis=1)\n",
    "svdd_scores = (distances - distances.min()) / (distances.max() - distances.min())\n",
    "svdd_pred = (svdd_scores > 0.5).astype(int)"
   ]
  },
  {
   "cell_type": "code",
   "execution_count": null,
   "id": "1b60362b",
   "metadata": {},
   "outputs": [],
   "source": [
    "svm = OneClassSVM(gamma='auto').fit(X_train_pca)\n",
    "svm_scores = -svm.decision_function(X_test_pca)\n",
    "svm_pred = (svm.predict(X_test_pca) == -1).astype(int)"
   ]
  },
  {
   "cell_type": "code",
   "execution_count": null,
   "id": "85ded933",
   "metadata": {},
   "outputs": [],
   "source": [
    "acc_svdd = accuracy_score(y_test, svdd_pred)\n",
    "prec_svdd = precision_score(y_test, svdd_pred)\n",
    "rec_svdd = recall_score(y_test, svdd_pred)\n",
    "\n",
    "acc_svm = accuracy_score(y_test, svm_pred)\n",
    "\n",
    "fpr_svdd, tpr_svdd, _ = roc_curve(y_test, svdd_scores)\n",
    "fpr_svm, tpr_svm, _ = roc_curve(y_test, svm_scores)\n",
    "roc_auc_svdd = auc(fpr_svdd, tpr_svdd)\n",
    "roc_auc_svm = auc(fpr_svm, tpr_svm)\n",
    "\n",
    "print(\"Deep SVDD Accuracy:\", acc_svdd)\n",
    "print(\"Precision:\", prec_svdd)\n",
    "print(\"Recall:\", rec_svdd)\n",
    "print(\"SVM Accuracy:\", acc_svm)"
   ]
  },
  {
   "cell_type": "code",
   "execution_count": null,
   "id": "d53043e0",
   "metadata": {},
   "outputs": [],
   "source": [
    "plt.figure()\n",
    "plt.plot(fpr_svdd, tpr_svdd, label=f'Deep SVDD (AUC = {roc_auc_svdd:.2f})')\n",
    "plt.plot(fpr_svm, tpr_svm, linestyle='--', label=f'One-Class SVM (AUC = {roc_auc_svm:.2f})')\n",
    "plt.plot([0, 1], [0, 1], linestyle=':')\n",
    "plt.xlabel('False Positive Rate')\n",
    "plt.ylabel('True Positive Rate')\n",
    "plt.title('ROC Curve Comparison')\n",
    "plt.legend()\n",
    "plt.show()"
   ]
  },
  {
   "cell_type": "code",
   "execution_count": null,
   "id": "eb1491e0",
   "metadata": {},
   "outputs": [],
   "source": [
    "pca_vis = PCA(n_components=2)\n",
    "X_vis = pca_vis.fit_transform(X_test_pca)\n",
    "\n",
    "plt.figure()\n",
    "plt.scatter(X_vis[y_test == 0, 0], X_vis[y_test == 0, 1], label=\"Normal\", alpha=0.5)\n",
    "plt.scatter(X_vis[y_test == 1, 0], X_vis[y_test == 1, 1], label=\"Anomaly\", alpha=0.5)\n",
    "plt.title(\"PCA Visualization of Test Set\")\n",
    "plt.legend()\n",
    "plt.show()"
   ]
  }
 ],
 "metadata": {
  "kernelspec": {
   "display_name": "Python (lfdhw2)",
   "language": "python",
   "name": "lfdhw2"
  },
  "language_info": {
   "name": "python",
   "version": "3.10.13"
  }
 },
 "nbformat": 4,
 "nbformat_minor": 5
}
